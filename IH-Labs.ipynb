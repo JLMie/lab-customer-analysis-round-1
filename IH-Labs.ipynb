{
 "cells": [
  {
   "cell_type": "code",
   "execution_count": 1,
   "id": "02cc0857",
   "metadata": {},
   "outputs": [],
   "source": [
    "import pandas as pd"
   ]
  },
  {
   "cell_type": "code",
   "execution_count": null,
   "id": "8eb0598d",
   "metadata": {},
   "outputs": [],
   "source": [
    "# Reading data and show the DataFrame's shape."
   ]
  },
  {
   "cell_type": "code",
   "execution_count": 15,
   "id": "a94c9a91",
   "metadata": {},
   "outputs": [
    {
     "name": "stdout",
     "output_type": "stream",
     "text": [
      "file1.csv dataframe shape, (4008, 11)\n"
     ]
    }
   ],
   "source": [
    "file1 = pd.read_csv('file1.csv') #? Here we are reading and we are store the file with another name to simplify and avoid the . ?\n",
    "print (\"file1.csv dataframe shape,\", file1.shape)"
   ]
  },
  {
   "cell_type": "code",
   "execution_count": 14,
   "id": "c2bfb7f3",
   "metadata": {},
   "outputs": [
    {
     "name": "stdout",
     "output_type": "stream",
     "text": [
      "file2.csv dataframe shape, (996, 11)\n"
     ]
    }
   ],
   "source": [
    "file2 = pd.read_csv('file2.csv')\n",
    "print (\"file2.csv dataframe shape,\", file2.shape)"
   ]
  },
  {
   "cell_type": "code",
   "execution_count": 16,
   "id": "68196cdd",
   "metadata": {},
   "outputs": [
    {
     "name": "stdout",
     "output_type": "stream",
     "text": [
      "file3.csv dataframe shape, (7070, 11)\n"
     ]
    }
   ],
   "source": [
    "file2 = pd.read_csv('file3.csv')\n",
    "print (\"file3.csv dataframe shape,\", file3.shape)"
   ]
  },
  {
   "cell_type": "code",
   "execution_count": 22,
   "id": "e0e311f6",
   "metadata": {},
   "outputs": [
    {
     "name": "stdout",
     "output_type": "stream",
     "text": [
      "     CUSTOMER       STATE  CUSTOMER LIFETIME VALUE             EDUCATION  \\\n",
      "0     SA25987  Washington              3479.137523  High School or Below   \n",
      "1     TB86706     Arizona              2502.637401                Master   \n",
      "2     ZL73902      Nevada              3265.156348              Bachelor   \n",
      "3     KX23516  California              4455.843406  High School or Below   \n",
      "4     FN77294  California              7704.958480  High School or Below   \n",
      "...       ...         ...                      ...                   ...   \n",
      "7065  LA72316  California             23405.987980              Bachelor   \n",
      "7066  PK87824  California              3096.511217               College   \n",
      "7067  TD14365  California              8163.890428              Bachelor   \n",
      "7068  UP19263  California              7524.442436               College   \n",
      "7069  Y167826  California              2611.836866               College   \n",
      "\n",
      "     GENDER  INCOME  MONTHLY PREMIUM AUTO  NUMBER OF OPEN COMPLAINTS  \\\n",
      "0         M       0                   104                          0   \n",
      "1         M       0                    66                          0   \n",
      "2         F   25820                    82                          0   \n",
      "3         F       0                   121                          0   \n",
      "4         M   30366                   101                          2   \n",
      "...     ...     ...                   ...                        ...   \n",
      "7065      M   71941                    73                          0   \n",
      "7066      F   21604                    79                          0   \n",
      "7067      M       0                    85                          3   \n",
      "7068      M   21941                    96                          0   \n",
      "7069      M       0                    77                          0   \n",
      "\n",
      "         POLICY TYPE  TOTAL CLAIM AMOUNT  VEHICLE CLASS  \n",
      "0      Personal Auto          499.200000   Two-Door Car  \n",
      "1      Personal Auto            3.468912   Two-Door Car  \n",
      "2      Personal Auto          393.600000  Four-Door Car  \n",
      "3      Personal Auto          699.615192            SUV  \n",
      "4      Personal Auto          484.800000            SUV  \n",
      "...              ...                 ...            ...  \n",
      "7065   Personal Auto          198.234764  Four-Door Car  \n",
      "7066  Corporate Auto          379.200000  Four-Door Car  \n",
      "7067  Corporate Auto          790.784983  Four-Door Car  \n",
      "7068   Personal Auto          691.200000  Four-Door Car  \n",
      "7069  Corporate Auto          369.600000   Two-Door Car  \n",
      "\n",
      "[7070 rows x 11 columns]\n"
     ]
    }
   ],
   "source": [
    "# PRINT zone\n",
    "print(file3)"
   ]
  },
  {
   "cell_type": "code",
   "execution_count": null,
   "id": "88680356",
   "metadata": {},
   "outputs": [],
   "source": [
    "# Standardize header names."
   ]
  },
  {
   "cell_type": "code",
   "execution_count": 40,
   "id": "3527f719",
   "metadata": {},
   "outputs": [
    {
     "name": "stdout",
     "output_type": "stream",
     "text": [
      "     CUSTOMER          ST GENDER             EDUCATION  \\\n",
      "0     RB50392  Washington    NaN                Master   \n",
      "1     QZ44356     Arizona      F              Bachelor   \n",
      "2     AI49188      Nevada      F              Bachelor   \n",
      "3     WW63253  California      M              Bachelor   \n",
      "4     GA49547  Washington      M  High School or Below   \n",
      "...       ...         ...    ...                   ...   \n",
      "4003      NaN         NaN    NaN                   NaN   \n",
      "4004      NaN         NaN    NaN                   NaN   \n",
      "4005      NaN         NaN    NaN                   NaN   \n",
      "4006      NaN         NaN    NaN                   NaN   \n",
      "4007      NaN         NaN    NaN                   NaN   \n",
      "\n",
      "     CUSTOMER LIFETIME VALUE   INCOME  MONTHLY PREMIUM AUTO  \\\n",
      "0                        NaN      0.0                1000.0   \n",
      "1                 697953.59%      0.0                  94.0   \n",
      "2                1288743.17%  48767.0                 108.0   \n",
      "3                 764586.18%      0.0                 106.0   \n",
      "4                 536307.65%  36357.0                  68.0   \n",
      "...                      ...      ...                   ...   \n",
      "4003                     NaN      NaN                   NaN   \n",
      "4004                     NaN      NaN                   NaN   \n",
      "4005                     NaN      NaN                   NaN   \n",
      "4006                     NaN      NaN                   NaN   \n",
      "4007                     NaN      NaN                   NaN   \n",
      "\n",
      "     NUMBER OF OPEN COMPLAINTS     POLICY TYPE  VEHICLE CLASS  \\\n",
      "0                       1/0/00   Personal Auto  Four-Door Car   \n",
      "1                       1/0/00   Personal Auto  Four-Door Car   \n",
      "2                       1/0/00   Personal Auto   Two-Door Car   \n",
      "3                       1/0/00  Corporate Auto            SUV   \n",
      "4                       1/0/00   Personal Auto  Four-Door Car   \n",
      "...                        ...             ...            ...   \n",
      "4003                       NaN             NaN            NaN   \n",
      "4004                       NaN             NaN            NaN   \n",
      "4005                       NaN             NaN            NaN   \n",
      "4006                       NaN             NaN            NaN   \n",
      "4007                       NaN             NaN            NaN   \n",
      "\n",
      "      TOTAL CLAIM AMOUNT  \n",
      "0               2.704934  \n",
      "1            1131.464935  \n",
      "2             566.472247  \n",
      "3             529.881344  \n",
      "4              17.269323  \n",
      "...                  ...  \n",
      "4003                 NaN  \n",
      "4004                 NaN  \n",
      "4005                 NaN  \n",
      "4006                 NaN  \n",
      "4007                 NaN  \n",
      "\n",
      "[4008 rows x 11 columns]\n"
     ]
    }
   ],
   "source": [
    "#Way 1\n",
    "cols1=[]\n",
    "for c in file1.columns:\n",
    "    cols1.append(c.upper())\n",
    "file1.columns=cols1\n",
    "print(file1)"
   ]
  },
  {
   "cell_type": "code",
   "execution_count": 50,
   "id": "8b6a046f",
   "metadata": {},
   "outputs": [
    {
     "name": "stdout",
     "output_type": "stream",
     "text": [
      "     CUSTOMER          ST GENDER             EDUCATION  \\\n",
      "0     RB50392  Washington    NaN                Master   \n",
      "1     QZ44356     Arizona      F              Bachelor   \n",
      "2     AI49188      Nevada      F              Bachelor   \n",
      "3     WW63253  California      M              Bachelor   \n",
      "4     GA49547  Washington      M  High School or Below   \n",
      "...       ...         ...    ...                   ...   \n",
      "4003      NaN         NaN    NaN                   NaN   \n",
      "4004      NaN         NaN    NaN                   NaN   \n",
      "4005      NaN         NaN    NaN                   NaN   \n",
      "4006      NaN         NaN    NaN                   NaN   \n",
      "4007      NaN         NaN    NaN                   NaN   \n",
      "\n",
      "     CUSTOMER LIFETIME VALUE   INCOME  MONTHLY PREMIUM AUTO  \\\n",
      "0                        NaN      0.0                1000.0   \n",
      "1                 697953.59%      0.0                  94.0   \n",
      "2                1288743.17%  48767.0                 108.0   \n",
      "3                 764586.18%      0.0                 106.0   \n",
      "4                 536307.65%  36357.0                  68.0   \n",
      "...                      ...      ...                   ...   \n",
      "4003                     NaN      NaN                   NaN   \n",
      "4004                     NaN      NaN                   NaN   \n",
      "4005                     NaN      NaN                   NaN   \n",
      "4006                     NaN      NaN                   NaN   \n",
      "4007                     NaN      NaN                   NaN   \n",
      "\n",
      "     NUMBER OF OPEN COMPLAINTS     POLICY TYPE  VEHICLE CLASS  \\\n",
      "0                       1/0/00   Personal Auto  Four-Door Car   \n",
      "1                       1/0/00   Personal Auto  Four-Door Car   \n",
      "2                       1/0/00   Personal Auto   Two-Door Car   \n",
      "3                       1/0/00  Corporate Auto            SUV   \n",
      "4                       1/0/00   Personal Auto  Four-Door Car   \n",
      "...                        ...             ...            ...   \n",
      "4003                       NaN             NaN            NaN   \n",
      "4004                       NaN             NaN            NaN   \n",
      "4005                       NaN             NaN            NaN   \n",
      "4006                       NaN             NaN            NaN   \n",
      "4007                       NaN             NaN            NaN   \n",
      "\n",
      "      TOTAL CLAIM AMOUNT  \n",
      "0               2.704934  \n",
      "1            1131.464935  \n",
      "2             566.472247  \n",
      "3             529.881344  \n",
      "4              17.269323  \n",
      "...                  ...  \n",
      "4003                 NaN  \n",
      "4004                 NaN  \n",
      "4005                 NaN  \n",
      "4006                 NaN  \n",
      "4007                 NaN  \n",
      "\n",
      "[4008 rows x 11 columns]\n"
     ]
    }
   ],
   "source": [
    "#Way 2\n",
    "file1.columns = file1.columns.map(str.upper) \n",
    "\n",
    "# map function should be composed map(function, iteration).\n",
    "# A sequence, collection or an iterator object. \n",
    "# You can send as many iterables as you like, just make sure the function has one parameter for each iterable.\n",
    "# The function to execute for each item. str is the function here, \n",
    "#? but how python knows I am referring just to the columns headers, and not to the all data in the column. \n",
    "#? What if a specify one column? That's mean I can never edit the data by column?\n",
    "\n",
    "print(file1)"
   ]
  },
  {
   "cell_type": "code",
   "execution_count": 51,
   "id": "d2281e3f",
   "metadata": {},
   "outputs": [],
   "source": [
    "# Rearrange the columns in the dataframe as needed"
   ]
  },
  {
   "cell_type": "code",
   "execution_count": 54,
   "id": "ef01e255",
   "metadata": {},
   "outputs": [
    {
     "name": "stdout",
     "output_type": "stream",
     "text": [
      "0             NaN\n",
      "1      697953.59%\n",
      "2     1288743.17%\n",
      "3      764586.18%\n",
      "4      536307.65%\n",
      "5      825629.78%\n",
      "6      538089.86%\n",
      "7      721610.03%\n",
      "8     2412750.40%\n",
      "9      738817.81%\n",
      "10     473899.20%\n",
      "11     819719.71%\n",
      "Name: CUSTOMER LIFETIME VALUE, dtype: object\n"
     ]
    }
   ],
   "source": [
    "#Correct the values in the column 'customer lifetime value'. \n",
    "#They are given as a percent, so divide them by 100 and change dtype to numerical type. \n",
    "#(only 2 of the files need this step.)\n",
    "\n",
    "print(file1['CUSTOMER LIFETIME VALUE'].head(12)) #Visualazing in which we have the values in %."
   ]
  },
  {
   "cell_type": "code",
   "execution_count": 52,
   "id": "1445bf68",
   "metadata": {},
   "outputs": [
    {
     "name": "stdout",
     "output_type": "stream",
     "text": [
      "0      3479.137523\n",
      "1      2502.637401\n",
      "2      3265.156348\n",
      "3      4455.843406\n",
      "4      7704.958480\n",
      "5      2750.705045\n",
      "6     13024.130120\n",
      "7      2538.626320\n",
      "8      2585.955652\n",
      "9      5096.673223\n",
      "10    10083.486880\n",
      "11     4943.386117\n",
      "Name: CUSTOMER LIFETIME VALUE, dtype: float64\n"
     ]
    }
   ],
   "source": [
    "print(file2['CUSTOMER LIFETIME VALUE'].head(12))"
   ]
  },
  {
   "cell_type": "code",
   "execution_count": 53,
   "id": "446e94ff",
   "metadata": {},
   "outputs": [
    {
     "name": "stdout",
     "output_type": "stream",
     "text": [
      "0      3479.137523\n",
      "1      2502.637401\n",
      "2      3265.156348\n",
      "3      4455.843406\n",
      "4      7704.958480\n",
      "5      2750.705045\n",
      "6     13024.130120\n",
      "7      2538.626320\n",
      "8      2585.955652\n",
      "9      5096.673223\n",
      "10    10083.486880\n",
      "11     4943.386117\n",
      "Name: CUSTOMER LIFETIME VALUE, dtype: float64\n"
     ]
    }
   ],
   "source": [
    "print(file3['CUSTOMER LIFETIME VALUE'].head(12))"
   ]
  },
  {
   "cell_type": "code",
   "execution_count": null,
   "id": "2803467a",
   "metadata": {},
   "outputs": [],
   "source": [
    "# Just the file1 need to divided by 100 and change dtype to numerical type. Not as the statement says."
   ]
  },
  {
   "cell_type": "code",
   "execution_count": 57,
   "id": "b226dd46",
   "metadata": {},
   "outputs": [
    {
     "name": "stdout",
     "output_type": "stream",
     "text": [
      "object\n",
      "float64\n",
      "float64\n"
     ]
    }
   ],
   "source": [
    "# First I need to check the data type values in the colum, because I can not divide a string per integer. \n",
    "print(file1['CUSTOMER LIFETIME VALUE'].dtype)\n",
    "print(file2['CUSTOMER LIFETIME VALUE'].dtype)\n",
    "print(file3['CUSTOMER LIFETIME VALUE'].dtype) #? Why is the number 64 next to the word?"
   ]
  },
  {
   "cell_type": "code",
   "execution_count": 72,
   "id": "b05e6515",
   "metadata": {},
   "outputs": [
    {
     "name": "stdout",
     "output_type": "stream",
     "text": [
      "float64\n"
     ]
    }
   ],
   "source": [
    "#I need to convert the object value to float. \n",
    "#file1['CUSTOMER LIFETIME VALUE'] = file1['CUSTOMER LIFETIME VALUE'].astype(float)\n",
    "#file1['CUSTOMER LIFETIME VALUE'] = pd.to_numeric(file1['CUSTOMER LIFETIME VALUE'])\n",
    "              #Any of the previous ones don't run\n",
    "    \n",
    "file1['CUSTOMER LIFETIME VALUE'] =  pd.to_numeric(file1['CUSTOMER LIFETIME VALUE'], errors='coerce')\n",
    "print(file1['CUSTOMER LIFETIME VALUE'].dtype)"
   ]
  },
  {
   "cell_type": "code",
   "execution_count": 75,
   "id": "6eaf9ceb",
   "metadata": {},
   "outputs": [
    {
     "name": "stdout",
     "output_type": "stream",
     "text": [
      "0    NaN\n",
      "1    NaN\n",
      "2    NaN\n",
      "3    NaN\n",
      "4    NaN\n",
      "5    NaN\n",
      "6    NaN\n",
      "7    NaN\n",
      "8    NaN\n",
      "9    NaN\n",
      "10   NaN\n",
      "11   NaN\n",
      "12   NaN\n",
      "Name: CUSTOMER LIFETIME VALUE, dtype: float64\n"
     ]
    }
   ],
   "source": [
    "file1['CUSTOMER LIFETIME VALUE'] = file1['CUSTOMER LIFETIME VALUE'] / 100\n",
    "#I can not run this one because I could not convert to float. print(file1['CUSTOMER LIFETIME VALUE']\n",
    "print(file1['CUSTOMER LIFETIME VALUE'].head(13))"
   ]
  },
  {
   "cell_type": "code",
   "execution_count": null,
   "id": "f7415791",
   "metadata": {},
   "outputs": [],
   "source": [
    "#? NaN ???"
   ]
  },
  {
   "cell_type": "code",
   "execution_count": null,
   "id": "b342279f",
   "metadata": {},
   "outputs": [],
   "source": [
    "# Concatenate the three dataframes. "
   ]
  },
  {
   "cell_type": "code",
   "execution_count": 77,
   "id": "a27f871b",
   "metadata": {},
   "outputs": [],
   "source": [
    "concatenated_dfiles = pd.concat([file1, file2, file3])"
   ]
  },
  {
   "cell_type": "code",
   "execution_count": 79,
   "id": "4ae693de",
   "metadata": {},
   "outputs": [
    {
     "name": "stdout",
     "output_type": "stream",
     "text": [
      "CUSTOMER                      object\n",
      "ST                            object\n",
      "GENDER                        object\n",
      "EDUCATION                     object\n",
      "CUSTOMER LIFETIME VALUE      float64\n",
      "INCOME                       float64\n",
      "MONTHLY PREMIUM AUTO         float64\n",
      "NUMBER OF OPEN COMPLAINTS     object\n",
      "POLICY TYPE                   object\n",
      "VEHICLE CLASS                 object\n",
      "TOTAL CLAIM AMOUNT           float64\n",
      "dtype: object\n"
     ]
    }
   ],
   "source": [
    "# First get the data type of all columns\n",
    "column_dtypes = file1.dtypes\n",
    "print(column_dtypes)"
   ]
  },
  {
   "cell_type": "markdown",
   "id": "2940cdb5",
   "metadata": {},
   "source": [
    "#Code missing. Manually mode. \n",
    "print()\n",
    "#Which columns are numerical? \n",
    "Numerical_columns: CUSTOMER LIFETIME VALUE, INCOME, MONTHLY PREMIUM AUTO, TOTAL CLAIM AMOUNT\n",
    "#Which columns are categorical?\n",
    "CUSTOMER,ST,GENDER, EDUCATION, NUMBER OF OPEN COMPLAINTS, POLICY TYPE, VEHICLE CLASS, "
   ]
  },
  {
   "cell_type": "markdown",
   "id": "5bb89ac3",
   "metadata": {},
   "source": [
    "#Understand the meaning of all columns.\n",
    "The bussiness is about car renting or a concessionaire with renting service. "
   ]
  },
  {
   "cell_type": "code",
   "execution_count": null,
   "id": "2e7f049e",
   "metadata": {},
   "outputs": [],
   "source": [
    "# Delete the column education and the number of open complaints from the dataframe."
   ]
  },
  {
   "cell_type": "code",
   "execution_count": null,
   "id": "ab609c38",
   "metadata": {},
   "outputs": [],
   "source": [
    "file1 = file1.drop(['EDUCATION', 'NUMBER OF OPEN COMPLAINTS'], axis=1)"
   ]
  },
  {
   "cell_type": "code",
   "execution_count": null,
   "id": "e4edca2e",
   "metadata": {},
   "outputs": [],
   "source": [
    "#Check for duplicate rows in the data and remove if any."
   ]
  },
  {
   "cell_type": "code",
   "execution_count": 80,
   "id": "9a97e8a0",
   "metadata": {},
   "outputs": [
    {
     "name": "stdout",
     "output_type": "stream",
     "text": [
      "(4008, 11)\n",
      "(1072, 11)\n"
     ]
    }
   ],
   "source": [
    "print(file1.shape)\n",
    "# Do a copy here? For keep all previous changes in another document right?\n",
    "file1 = file1.drop_duplicates()\n",
    "print(file1.shape)"
   ]
  },
  {
   "cell_type": "code",
   "execution_count": null,
   "id": "90ac08f6",
   "metadata": {},
   "outputs": [],
   "source": [
    "#Filter out the data for customers who have an income of 0 or less. (Only show customers who HAVE an income.)"
   ]
  },
  {
   "cell_type": "code",
   "execution_count": 85,
   "id": "50db3cb8",
   "metadata": {},
   "outputs": [
    {
     "name": "stdout",
     "output_type": "stream",
     "text": [
      "Empty DataFrame\n",
      "Columns: [CUSTOMER, ST, GENDER, EDUCATION, CUSTOMER LIFETIME VALUE, INCOME, MONTHLY PREMIUM AUTO, NUMBER OF OPEN COMPLAINTS, POLICY TYPE, VEHICLE CLASS, TOTAL CLAIM AMOUNT]\n",
      "Index: []\n"
     ]
    }
   ],
   "source": [
    "file1 = file1[file1['INCOME'] > 0]\n",
    "print(file1)  #there is no way visualize that better?"
   ]
  },
  {
   "cell_type": "code",
   "execution_count": null,
   "id": "59683463",
   "metadata": {},
   "outputs": [],
   "source": []
  }
 ],
 "metadata": {
  "kernelspec": {
   "display_name": "Python 3 (ipykernel)",
   "language": "python",
   "name": "python3"
  },
  "language_info": {
   "codemirror_mode": {
    "name": "ipython",
    "version": 3
   },
   "file_extension": ".py",
   "mimetype": "text/x-python",
   "name": "python",
   "nbconvert_exporter": "python",
   "pygments_lexer": "ipython3",
   "version": "3.10.9"
  }
 },
 "nbformat": 4,
 "nbformat_minor": 5
}
